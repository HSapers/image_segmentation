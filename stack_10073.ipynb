{
 "cells": [
  {
   "cell_type": "markdown",
   "metadata": {},
   "source": [
    "# 3View stack 10073"
   ]
  },
  {
   "cell_type": "markdown",
   "metadata": {},
   "source": [
    "import statements"
   ]
  },
  {
   "cell_type": "code",
   "execution_count": null,
   "metadata": {},
   "outputs": [],
   "source": [
    "# import modules\n",
    "import glob\n",
    "import os\n",
    "import path\n",
    "import ntpath\n",
    "import stat\n",
    "import sys\n",
    "import copy\n",
    "\n",
    "import numpy as np\n",
    "import pandas as pd\n",
    "\n",
    "# Image processing tools\n",
    "import mrcfile\n",
    "\n",
    "import skimage\n",
    "import skimage.io\n",
    "from imageio import imread, volread, imwrite, volwrite\n",
    "from ipywidgets import fixed, interactive\n",
    "\n",
    "\n",
    "#import caliban_toolbox.pre_annotation.data_loader\n",
    "#from caliban_toolbox import reshape_data\n",
    "#from caliban_toolbox.figure_eight_functions import create_figure_eight_job, download_figure_eight_output\n",
    "#from caliban_toolbox.utils import widget_utils, plot_utils, data_utils, io_utils\n",
    "\n",
    "from bokeh.palettes import Viridis, Greys\n",
    "from bokeh.io import export_png\n",
    "\n",
    "import xarray as xr\n",
    "\n",
    "import matplotlib as mpl\n",
    "import matplotlib.pyplot as plt\n",
    "import matplotlib.image as mpimg\n",
    "%matplotlib inline\n",
    "\n",
    "from skimage import filters, img_as_uint\n",
    "perm_mod = stat.S_IRWXO | stat.S_IRWXU | stat.S_IRWXG\n",
    "\n",
    "import bebi103\n",
    "\n",
    "import bokeh\n",
    "bokeh.io.output_notebook()\n",
    "\n",
    "import panel as pn\n",
    "pn.extension()\n",
    "\n",
    "import colorcet\n",
    "\n",
    "import holoviews as hv\n",
    "hv.extension('bokeh')"
   ]
  },
  {
   "cell_type": "code",
   "execution_count": null,
   "metadata": {},
   "outputs": [],
   "source": [
    "# look at the header of the bin4 data\n",
    "mrc = mrcfile.open('/Volumes/LaCie/11-10073_SBEM2_bin10.mrc')\n",
    "print(mrc.voxel_size)\n",
    "print(mrc.header)\n",
    "mrc.close"
   ]
  },
  {
   "cell_type": "markdown",
   "metadata": {},
   "source": [
    "## IMOD trim vol commands\n",
    "The IMOD trim vol commands used to extract the aggregate sub-volumes from the bin0 data (11-10073)"
   ]
  },
  {
   "cell_type": "markdown",
   "metadata": {},
   "source": [
    "`#agg 4\n",
    "Center (7679,9568); offset -845,-3904\n",
    "Image size: 3623 x 3461;   To excise:\n",
    "  trimvol -x 5868,9490 -y 7838,11298 -z 220,470 /Volumes/Transfer/11-10073_SBEM2_bin1.mrc /Volumes/Transfer/extracted_aggregates/11-10073_SBEM2_bin1_agg4.mrc\n",
    "#agg 7 \n",
    "Center (10468,5023); offset 1944,-8449\n",
    "Image size: 2012 x 1936;   To excise:\n",
    "  trimvol -x 9462,11473 -y 4055,5990 -z 60,190 /Volumes/Transfer/11-10073_SBEM2_bin1.mrc /Volumes/Transfer/extracted_aggregates/11-10073_SBEM2_bin1_agg7.mrc\n",
    "#agg 5\n",
    "Center (11819,9298); offset 3295,-4174\n",
    "Image size: 3323 x 3281;   To excise:\n",
    "  trimvol -x 10158,13480 -y 7658,10938 -z 240,450 /Volumes/Transfer/11-10073_SBEM2_bin1.mrc /Volumes/Transfer/extracted_aggregates/11-10073_SBEM2_bin1_agg5.mrc\n",
    "#agg 3\n",
    "Center (4744,6113); offset -3780,-7359\n",
    "Image size: 3869 x 4049;   To excise:\n",
    "  trimvol -x 2810,6678 -y 4089,8137 -z 260,504 /Volumes/Transfer/11-10073_SBEM2_bin1.mrc /Volumes/Transfer/extracted_aggregates/11-10073_SBEM2_bin1_agg3.mrc\n",
    "#agg 2\n",
    "Center (4557,12224); offset -3967,-1248\n",
    "Image size: 7310 x 7860;   To excise:\n",
    "  trimvol -x 902,8211 -y 8294,16153 -z 200,504 /Volumes/Transfer/11-10073_SBEM2_bin1.mrc /Volumes/Transfer/extracted_aggregates/11-10073_SBEM2_bin1_agg2.mrc\n",
    "#agg 6\n",
    "Center (12222,13069); offset 3698,-403\n",
    "Image size: 3521 x 3131;   To excise:\n",
    "  trimvol -x 10462,13982 -y 11504,14634 -z 220,460 /Volumes/Transfer/11-10073_SBEM2_bin1.mrc /Volumes/Transfer/extracted_aggregates/11-10073_SBEM2_bin1_agg6.mrc\n",
    "#agg 1\n",
    "Center (11574,22166); offset 3050,8694\n",
    "Image size: 6480 x 5760;   To excise:\n",
    "  trimvol -x 8334,14813 -y 19286,25045 -z 160,504 /Volumes/Transfer/11-10073_SBEM2_bin1.mrc /Volumes/Transfer/extracted_aggregates/11-10073_SBEM2_bin1_agg1.mrc\n",
    "#agg 8\n",
    "Center (9356,18207); offset 832,4735\n",
    "Image size: 4640 x 5070;   To excise:\n",
    "  trimvol -x 7036,11675 -y 15672,20741 -z 10,200 /Volumes/Transfer/11-10073_SBEM2_bin1.mrc /Volumes/Transfer/extracted_aggregates/11-10073_SBEM2_bin1_agg8.mrc\n",
    "#agg 9\n",
    "Center (10866,16152); offset 2342,2680\n",
    "Image size: 2840 x 2520;   To excise:\n",
    "  trimvol -x 9446,12285 -y 14892,17411 -z 10,170 /Volumes/Transfer/11-10073_SBEM2_bin1.mrc /Volumes/Transfer/extracted_aggregates/11-10073_SBEM2_bin1_agg9.mrc`"
   ]
  },
  {
   "cell_type": "markdown",
   "metadata": {},
   "source": [
    "# convert to unsigned\n",
    "by default the new subvolumes are stored as signed 16bit integers. We need to convert these these unsigned. This can be done using the 'newstack' command in IMOD. \n",
    "\n",
    "``` newstack -mode 6 /Volumes/Haley3view/extracted_aggregates/11-10073_SBEM2_bin1_agg9.mrc /Volumes/Haley3view/extracted_aggregates/11-10073_SBEM2_bin1_agg9_unsigned.mrc```"
   ]
  },
  {
   "cell_type": "markdown",
   "metadata": {},
   "source": [
    "# Aggregate sub-volumes\n",
    "## 1) key frames\n",
    "Each of the aggregate sub-volumes are stored as separate mrc files. Each of these files needs to be opened, the dimensions recorded and the data extracted. The key frame identified in IMOD is extracted and added to a list and the pixel value histogram plotted. The mrc files are then converted to 16-bit arrays and the the key frame re-extracted and histogram re-plotted."
   ]
  },
  {
   "cell_type": "markdown",
   "metadata": {},
   "source": [
    "### define key frames of each aggregate sub-volume and open"
   ]
  },
  {
   "cell_type": "code",
   "execution_count": null,
   "metadata": {},
   "outputs": [],
   "source": [
    "#define open and get info and return key frame\n",
    "def open_mrc_keyf(file_name, key_frame):\n",
    "    \"\"\"open an mrc file and return the key frame as a np arrays\"\"\"\n",
    "    mrc = mrcfile.mmap(file_name, mode='r')\n",
    "    dim = '{}: there are {} slices each {} x {} pixels'.format(file_name, mrc.data.shape[0],mrc.data.shape[1],mrc.data.shape[2])\n",
    "    print(dim)\n",
    "    data = mrc.data[key_frame]\n",
    "    mrc.close()\n",
    "    return data\n",
    "\n",
    "#define agg dict with agg name and key frame\n",
    "agg_dict={'agg1':186, 'agg2':227, 'agg3':139, 'agg4':121, 'agg5':101, 'agg6':107, 'agg7':80, 'agg8':82, 'agg9':106}\n",
    "#initialize list of key frames\n",
    "agg_mrc_frames = []\n",
    "\n",
    "for k, v in agg_dict.items():\n",
    "    data = open_mrc_keyf(f'/Volumes/Haley3view/extracted_aggregates/11-10073_SBEM2_bin1_{k}_unsigned.mrc', v)\n",
    "    #data_8bit = skimage.img_as_ubyte(data)\n",
    "    #data_s = skimage.exposure.rescale_intensity(data, in_range='image', out_range=np.int16)\n",
    "    #data_u = skimage.img_as_uint(data)\n",
    "    print(data.dtype)\n",
    "    agg_mrc_frames.append(data)\n",
    "    #agg_dimensions.append(data[1])\n",
    "\n",
    "print(f'there are {len(agg_mrc_frames)} key frames in agg_mrc_frames')\n",
    "print(type(agg_mrc_frames))"
   ]
  },
  {
   "cell_type": "code",
   "execution_count": null,
   "metadata": {},
   "outputs": [],
   "source": [
    "imgplot = plt.imshow(agg_mrc_frames[1])"
   ]
  },
  {
   "cell_type": "markdown",
   "metadata": {},
   "source": [
    "### display each key frame"
   ]
  },
  {
   "cell_type": "code",
   "execution_count": null,
   "metadata": {},
   "outputs": [],
   "source": [
    "pal = Greys[256]\n",
    "im_names = agg_dict.keys()\n",
    "interpixel_dist = 55\n",
    "ims = agg_mrc_frames[3:9]\n",
    "\n",
    "# Display images\n",
    "plots = [\n",
    "    bebi103.image.imshow(\n",
    "        im, frame_height=300, title=name, interpixel_distance=0.0055, length_units=\"µm\", cmap = pal\n",
    "    )\n",
    "    for name, im in zip(im_names, ims)\n",
    "]\n",
    "\n",
    "bokeh.io.show(bokeh.layouts.gridplot(plots, ncols=3))"
   ]
  },
  {
   "cell_type": "markdown",
   "metadata": {},
   "source": [
    "### make a histogram of pixel values for each key frame"
   ]
  },
  {
   "cell_type": "code",
   "execution_count": null,
   "metadata": {},
   "outputs": [],
   "source": [
    "def plot_hist(im, title, logy=True):\n",
    "    \"\"\"Make plot of image histogram.\"\"\"\n",
    "    counts, vals = skimage.exposure.histogram(im)\n",
    "    if logy:\n",
    "        inds = counts > 0\n",
    "        log_counts = np.log(counts[inds])\n",
    "        return hv.Spikes(\n",
    "            data=(vals[inds], log_counts),\n",
    "            kdims=['pixel values'],\n",
    "            vdims=['log₁₀ count'],\n",
    "            label=title,\n",
    "        ).opts(\n",
    "            frame_height=100,\n",
    "        )\n",
    "\n",
    "    return hv.Spikes(\n",
    "        data=(vals, counts),\n",
    "        kdims=['pixel values'],\n",
    "        vdims=['count'],\n",
    "        label=title,\n",
    "    ).opts(\n",
    "        frame_height=100,\n",
    "    )\n",
    "\n",
    "im_names = agg_dict.keys()\n",
    "ims = agg_mrc_frames\n",
    "\n",
    "# Display histograms\n",
    "plots = [plot_hist(im, name) for name, im in zip(im_names, ims)]\n",
    "hv.Layout(\n",
    "    plots\n",
    ").opts(\n",
    "    shared_axes=False,\n",
    ").cols(\n",
    "    3\n",
    ")\n",
    "\n",
    "#save layout\n",
    "#export_png(plots, filename = '/Volumes/Transfer/extracted_aggregates/aggregate_key_frame_histograms.png')\n"
   ]
  },
  {
   "cell_type": "markdown",
   "metadata": {},
   "source": [
    "# convert to npz"
   ]
  },
  {
   "cell_type": "code",
   "execution_count": null,
   "metadata": {},
   "outputs": [],
   "source": [
    "#extract the data from each stack\n",
    "\n",
    "def open_mrc_data(file_name):\n",
    "    \"\"\"open an mrc file and return the data as a set of np arrays\"\"\"\n",
    "    mrc = mrcfile.mmap(file_name, mode='r')\n",
    "    dim = '{}: there are {} slices each {} x {} pixels'.format(file_name, mrc.data.shape[0],mrc.data.shape[1],mrc.data.shape[2])\n",
    "    print(dim)\n",
    "    data = mrc.data\n",
    "    mrc.close()\n",
    "    return data\n",
    "\n",
    "names = agg_dict.keys()\n",
    "    \n",
    "for i in names:\n",
    "    stack_data = open_mrc_data(f'/Volumes/Haley3view/extracted_aggregates/11-10073_SBEM2_bin1_{i}_unsigned.mrc')\n",
    "    X = np.expand_dims(stack_data, axis=3)\n",
    "    y_shape = (stack_data.shape[0], stack_data.shape[1], stack_data.shape[2], 4)\n",
    "    y = np.zeros(y_shape, dtype=np.uint16)\n",
    "    np.savez(f'/Volumes/Haley3view/extracted_aggregates/11-10073_SBEM2_bin1_{i}_unsigned.npz', X=X, y=y)\n",
    "\n"
   ]
  },
  {
   "cell_type": "code",
   "execution_count": null,
   "metadata": {},
   "outputs": [],
   "source": [
    "def open_mrc_data(file_name):\n",
    "    \"\"\"open an mrc file and return the data as a set of np arrays\"\"\"\n",
    "    mrc = mrcfile.mmap(file_name, mode='r')\n",
    "    dim = '{}: there are {} slices each {} x {} pixels'.format(file_name, mrc.data.shape[0],mrc.data.shape[1],mrc.data.shape[2])\n",
    "    print(dim)\n",
    "    data = mrc.data\n",
    "    mrc.close\n",
    "    return data\n",
    "\n",
    "stack_data = open_mrc_data('/Volumes/Haley3view/extracted_aggregates/11-10073_SBEM2_bin1_agg4_unsigned.mrc')\n",
    "\n",
    "X = np.expand_dims(stack_data, axis=3)\n",
    "y_shape = (stack_data.shape[0], stack_data.shape[1], stack_data.shape[2], 4)\n",
    "y = np.zeros(y_shape, dtype=np.uint16)\n",
    "np.savez('/Volumes/Haley3view/extracted_aggregates/11-10073_SBEM2_bin1_agg4_unsigned.npz', X=X, y=y)"
   ]
  },
  {
   "cell_type": "code",
   "execution_count": null,
   "metadata": {},
   "outputs": [],
   "source": [
    "test_agg = np.load('/Volumes/Haley3view/extracted_aggregates/11-10073_SBEM2_bin1_agg4_unsigned.npz')\n",
    "\n",
    "#test_agg.files\n",
    "test_agg['X'].shape"
   ]
  },
  {
   "cell_type": "markdown",
   "metadata": {},
   "source": [
    "## 2) save subvolume stacks"
   ]
  },
  {
   "cell_type": "code",
   "execution_count": null,
   "metadata": {},
   "outputs": [],
   "source": [
    "#define open and get info and return key frame\n",
    "def open_mrc(file_name):\n",
    "    \"\"\"open an mrc file and return the key frame as a np arrays\"\"\"\n",
    "    mrc = mrcfile.mmap(file_name, mode='r')\n",
    "    dim = '{}: there are {} slices each {} x {} pixels'.format(file_name, mrc.data.shape[0],mrc.data.shape[1],mrc.data.shape[2])\n",
    "    print(dim)\n",
    "    data = mrc.data\n",
    "    mrc.close\n",
    "    return data\n",
    "\n",
    "data = open_mrc()"
   ]
  }
 ],
 "metadata": {
  "kernelspec": {
   "display_name": "Python 3",
   "language": "python",
   "name": "python3"
  },
  "language_info": {
   "codemirror_mode": {
    "name": "ipython",
    "version": 3
   },
   "file_extension": ".py",
   "mimetype": "text/x-python",
   "name": "python",
   "nbconvert_exporter": "python",
   "pygments_lexer": "ipython3",
   "version": "3.7.6"
  }
 },
 "nbformat": 4,
 "nbformat_minor": 4
}
